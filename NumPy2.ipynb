{
 "cells": [
  {
   "cell_type": "markdown",
   "id": "354beceb-2504-491d-ae83-80c6ade486da",
   "metadata": {},
   "source": [
    "## İndex ile elemanlara erişmek"
   ]
  },
  {
   "cell_type": "code",
   "execution_count": 2,
   "id": "81c717da-0c4e-4e28-a3ce-83ef70967fa1",
   "metadata": {},
   "outputs": [
    {
     "data": {
      "text/plain": [
       "array([9, 6, 1, 4, 9, 9, 8, 8, 2, 9])"
      ]
     },
     "execution_count": 2,
     "metadata": {},
     "output_type": "execute_result"
    }
   ],
   "source": [
    "import numpy as np\n",
    "a=np.random.randint(10,size=10)\n",
    "a"
   ]
  },
  {
   "cell_type": "code",
   "execution_count": 3,
   "id": "f7e87535-414a-49aa-84b3-af4150d916f5",
   "metadata": {},
   "outputs": [
    {
     "data": {
      "text/plain": [
       "9"
      ]
     },
     "execution_count": 3,
     "metadata": {},
     "output_type": "execute_result"
    }
   ],
   "source": [
    "a[0]"
   ]
  },
  {
   "cell_type": "code",
   "execution_count": 4,
   "id": "fe01bed2-e527-4df9-90f6-a8eef68d44df",
   "metadata": {},
   "outputs": [
    {
     "data": {
      "text/plain": [
       "9"
      ]
     },
     "execution_count": 4,
     "metadata": {},
     "output_type": "execute_result"
    }
   ],
   "source": [
    "a[-1]"
   ]
  },
  {
   "cell_type": "code",
   "execution_count": 5,
   "id": "fc03fa1b-d4c7-4837-9812-11310cb67567",
   "metadata": {},
   "outputs": [],
   "source": [
    "a[0]=100"
   ]
  },
  {
   "cell_type": "code",
   "execution_count": 6,
   "id": "28ed5419-7c40-4c5b-8dc7-c437a1fa8105",
   "metadata": {},
   "outputs": [
    {
     "data": {
      "text/plain": [
       "array([100,   6,   1,   4,   9,   9,   8,   8,   2,   9])"
      ]
     },
     "execution_count": 6,
     "metadata": {},
     "output_type": "execute_result"
    }
   ],
   "source": [
    "a"
   ]
  },
  {
   "cell_type": "markdown",
   "id": "2fc83a29-29f4-45c9-a748-63548d117f50",
   "metadata": {},
   "source": [
    "* iki boyutlu"
   ]
  },
  {
   "cell_type": "code",
   "execution_count": 8,
   "id": "82bae03b-9f89-445f-a743-8da1b224e384",
   "metadata": {},
   "outputs": [
    {
     "data": {
      "text/plain": [
       "array([[1, 4, 3, 6, 2],\n",
       "       [7, 1, 7, 9, 3],\n",
       "       [8, 6, 4, 2, 8]])"
      ]
     },
     "execution_count": 8,
     "metadata": {},
     "output_type": "execute_result"
    }
   ],
   "source": [
    "m=np.random.randint(10,size=(3,5))\n",
    "m"
   ]
  },
  {
   "cell_type": "code",
   "execution_count": 9,
   "id": "12c08799-5c61-4e0e-9878-e8eb573d94e2",
   "metadata": {},
   "outputs": [
    {
     "data": {
      "text/plain": [
       "1"
      ]
     },
     "execution_count": 9,
     "metadata": {},
     "output_type": "execute_result"
    }
   ],
   "source": [
    "m[0,0]"
   ]
  },
  {
   "cell_type": "code",
   "execution_count": 12,
   "id": "9effc96e-84f2-46dc-b56b-9122e7ae658a",
   "metadata": {},
   "outputs": [
    {
     "data": {
      "text/plain": [
       "2"
      ]
     },
     "execution_count": 12,
     "metadata": {},
     "output_type": "execute_result"
    }
   ],
   "source": [
    "m[2,3]"
   ]
  },
  {
   "cell_type": "code",
   "execution_count": 13,
   "id": "616390ef-7d9d-4021-b2ba-05ad8d6a9926",
   "metadata": {},
   "outputs": [],
   "source": [
    "m[2,3]=5"
   ]
  },
  {
   "cell_type": "code",
   "execution_count": 14,
   "id": "807c60df-e082-4ea6-8068-d9120d559af1",
   "metadata": {},
   "outputs": [
    {
     "data": {
      "text/plain": [
       "array([[1, 4, 3, 6, 2],\n",
       "       [7, 1, 7, 9, 3],\n",
       "       [8, 6, 4, 5, 8]])"
      ]
     },
     "execution_count": 14,
     "metadata": {},
     "output_type": "execute_result"
    }
   ],
   "source": [
    "m"
   ]
  },
  {
   "cell_type": "code",
   "execution_count": 15,
   "id": "006e1efc-f478-455e-80b8-eddd8e79bbfd",
   "metadata": {},
   "outputs": [
    {
     "data": {
      "text/plain": [
       "3"
      ]
     },
     "execution_count": 15,
     "metadata": {},
     "output_type": "execute_result"
    }
   ],
   "source": [
    "m[1,4]"
   ]
  },
  {
   "cell_type": "code",
   "execution_count": 18,
   "id": "d7e59c23-9942-4a86-b936-78d659b12d6a",
   "metadata": {},
   "outputs": [],
   "source": [
    "m[1,4]=2.8 #var olan bir array'e dışardan array dışı farklı bir tip ekleme yapmak isteğimizde kabul etmez ve çevirir"
   ]
  },
  {
   "cell_type": "code",
   "execution_count": 17,
   "id": "b61491c3-44bb-476d-8417-bd4852ea74e9",
   "metadata": {},
   "outputs": [
    {
     "data": {
      "text/plain": [
       "array([[1, 4, 3, 6, 2],\n",
       "       [7, 1, 7, 9, 2],\n",
       "       [8, 6, 4, 5, 8]])"
      ]
     },
     "execution_count": 17,
     "metadata": {},
     "output_type": "execute_result"
    }
   ],
   "source": [
    "m"
   ]
  },
  {
   "cell_type": "code",
   "execution_count": 19,
   "id": "780fc353-ca8a-4d68-97f2-8d64004cfb1b",
   "metadata": {},
   "outputs": [],
   "source": [
    "# 0 dan oluşturduğumuz bir array'de float değer varsa bütün arrayin tipini ondalıklı olarak görür"
   ]
  },
  {
   "cell_type": "markdown",
   "id": "c6b39ff4-df32-4101-85dc-afb876b744e6",
   "metadata": {},
   "source": [
    "## Array alt küme işlemleri(slicing)"
   ]
  },
  {
   "cell_type": "code",
   "execution_count": 20,
   "id": "638a197d-066b-4efd-af8b-6a0e20bd96ff",
   "metadata": {},
   "outputs": [],
   "source": [
    "import numpy as np"
   ]
  },
  {
   "cell_type": "code",
   "execution_count": 21,
   "id": "afde4290-b13e-4a26-8ba0-e2ffc3a26fe7",
   "metadata": {},
   "outputs": [
    {
     "data": {
      "text/plain": [
       "array([20, 21, 22, 23, 24, 25, 26, 27, 28, 29])"
      ]
     },
     "execution_count": 21,
     "metadata": {},
     "output_type": "execute_result"
    }
   ],
   "source": [
    "a=np.arange(20,30)\n",
    "a"
   ]
  },
  {
   "cell_type": "code",
   "execution_count": 22,
   "id": "adb10ad9-f785-42b0-a498-274d37c2acfe",
   "metadata": {},
   "outputs": [
    {
     "data": {
      "text/plain": [
       "array([20, 21, 22])"
      ]
     },
     "execution_count": 22,
     "metadata": {},
     "output_type": "execute_result"
    }
   ],
   "source": [
    "a[0:3]"
   ]
  },
  {
   "cell_type": "code",
   "execution_count": 23,
   "id": "b0e09dfe-44bf-4b9f-a8ba-a2c0672db529",
   "metadata": {},
   "outputs": [
    {
     "data": {
      "text/plain": [
       "array([20, 21, 22])"
      ]
     },
     "execution_count": 23,
     "metadata": {},
     "output_type": "execute_result"
    }
   ],
   "source": [
    "a[:3]"
   ]
  },
  {
   "cell_type": "code",
   "execution_count": 24,
   "id": "8d6ced88-14c7-4432-92d0-305171778a32",
   "metadata": {},
   "outputs": [
    {
     "data": {
      "text/plain": [
       "array([23, 24, 25, 26, 27, 28, 29])"
      ]
     },
     "execution_count": 24,
     "metadata": {},
     "output_type": "execute_result"
    }
   ],
   "source": [
    "a[3:]"
   ]
  },
  {
   "cell_type": "code",
   "execution_count": 25,
   "id": "e1a4eca3-2a4c-4a38-9626-663437c76647",
   "metadata": {},
   "outputs": [
    {
     "data": {
      "text/plain": [
       "array([21, 23, 25, 27, 29])"
      ]
     },
     "execution_count": 25,
     "metadata": {},
     "output_type": "execute_result"
    }
   ],
   "source": [
    "a[1::2]"
   ]
  },
  {
   "cell_type": "markdown",
   "id": "fe7fc377-c826-499f-a955-f989f3a1b3cc",
   "metadata": {},
   "source": [
    "* iki boyutlu"
   ]
  },
  {
   "cell_type": "code",
   "execution_count": 28,
   "id": "55562060-da4f-424e-8581-3a6cae39feae",
   "metadata": {},
   "outputs": [
    {
     "data": {
      "text/plain": [
       "array([[0, 6, 4, 4, 8],\n",
       "       [0, 2, 8, 0, 8],\n",
       "       [8, 0, 0, 8, 7],\n",
       "       [9, 2, 7, 4, 1],\n",
       "       [9, 6, 3, 2, 5]])"
      ]
     },
     "execution_count": 28,
     "metadata": {},
     "output_type": "execute_result"
    }
   ],
   "source": [
    "import numpy as np\n",
    "m=np.random.randint(10,size=(5,5))\n",
    "m"
   ]
  },
  {
   "cell_type": "code",
   "execution_count": 30,
   "id": "c9fd58c6-44f9-436b-a1b5-467964c3e4d8",
   "metadata": {},
   "outputs": [
    {
     "data": {
      "text/plain": [
       "array([0, 0, 8, 9, 9])"
      ]
     },
     "execution_count": 30,
     "metadata": {},
     "output_type": "execute_result"
    }
   ],
   "source": [
    "m[:,0]  #tüm satırı al ve 0. sütunu seç"
   ]
  },
  {
   "cell_type": "code",
   "execution_count": 31,
   "id": "ab1f5ac5-e8c8-4538-8c0c-d66a68d985bd",
   "metadata": {},
   "outputs": [
    {
     "data": {
      "text/plain": [
       "array([8, 8, 7, 1, 5])"
      ]
     },
     "execution_count": 31,
     "metadata": {},
     "output_type": "execute_result"
    }
   ],
   "source": [
    "m[:,4]  #4. sütunu seçtik"
   ]
  },
  {
   "cell_type": "code",
   "execution_count": 33,
   "id": "fb7c8c41-a4b2-438d-b9c9-44c2081665f0",
   "metadata": {},
   "outputs": [
    {
     "data": {
      "text/plain": [
       "array([0, 6, 4, 4, 8])"
      ]
     },
     "execution_count": 33,
     "metadata": {},
     "output_type": "execute_result"
    }
   ],
   "source": [
    "m[0,:] #ilk satırı çektik"
   ]
  },
  {
   "cell_type": "code",
   "execution_count": 35,
   "id": "4a295795-3382-41b7-9eeb-2640335627d1",
   "metadata": {},
   "outputs": [
    {
     "data": {
      "text/plain": [
       "array([8, 0, 0, 8, 7])"
      ]
     },
     "execution_count": 35,
     "metadata": {},
     "output_type": "execute_result"
    }
   ],
   "source": [
    "m[2,:] #2. satırı çektik"
   ]
  },
  {
   "cell_type": "code",
   "execution_count": 36,
   "id": "2f2da73f-e068-4b7b-af62-f618f54c5c39",
   "metadata": {},
   "outputs": [
    {
     "data": {
      "text/plain": [
       "array([[0, 6, 4],\n",
       "       [0, 2, 8]])"
      ]
     },
     "execution_count": 36,
     "metadata": {},
     "output_type": "execute_result"
    }
   ],
   "source": [
    "m[0:2,0:3]"
   ]
  },
  {
   "cell_type": "code",
   "execution_count": 37,
   "id": "4ee71864-d127-4a06-b2ab-6b314cbdd3ee",
   "metadata": {},
   "outputs": [
    {
     "data": {
      "text/plain": [
       "array([[0, 6],\n",
       "       [0, 2],\n",
       "       [8, 0],\n",
       "       [9, 2],\n",
       "       [9, 6]])"
      ]
     },
     "execution_count": 37,
     "metadata": {},
     "output_type": "execute_result"
    }
   ],
   "source": [
    "m[:,0:2]"
   ]
  },
  {
   "cell_type": "code",
   "execution_count": 38,
   "id": "5ae62325-b224-4528-a38c-2e6ceeb9b22e",
   "metadata": {},
   "outputs": [
    {
     "data": {
      "text/plain": [
       "array([[0, 2],\n",
       "       [8, 0]])"
      ]
     },
     "execution_count": 38,
     "metadata": {},
     "output_type": "execute_result"
    }
   ],
   "source": [
    "m[1:3,0:2]"
   ]
  },
  {
   "cell_type": "markdown",
   "id": "ca58d8cc-f88b-49d5-9c87-f7860a39bf1b",
   "metadata": {},
   "source": [
    "## Alt küme üzerinde işlem yapmak"
   ]
  },
  {
   "cell_type": "code",
   "execution_count": 39,
   "id": "3aead42a-b26f-47b9-a9dd-20593f4dc6c6",
   "metadata": {},
   "outputs": [
    {
     "data": {
      "text/plain": [
       "array([[5, 2, 7, 3, 1],\n",
       "       [3, 2, 8, 4, 4],\n",
       "       [7, 9, 9, 8, 5],\n",
       "       [0, 9, 0, 2, 6],\n",
       "       [8, 1, 8, 6, 4]])"
      ]
     },
     "execution_count": 39,
     "metadata": {},
     "output_type": "execute_result"
    }
   ],
   "source": [
    "import numpy as np\n",
    "a=np.random.randint(10,size=(5,5))\n",
    "a"
   ]
  },
  {
   "cell_type": "code",
   "execution_count": 42,
   "id": "47e47d3a-8965-4e80-bd6a-ed0b1691a254",
   "metadata": {},
   "outputs": [
    {
     "data": {
      "text/plain": [
       "array([[5, 2],\n",
       "       [3, 2],\n",
       "       [7, 9]])"
      ]
     },
     "execution_count": 42,
     "metadata": {},
     "output_type": "execute_result"
    }
   ],
   "source": [
    "alt_a=a[0:3,0:2]\n",
    "alt_a"
   ]
  },
  {
   "cell_type": "code",
   "execution_count": 43,
   "id": "f50dc497-60e6-4c93-a402-63924a8360b3",
   "metadata": {},
   "outputs": [],
   "source": [
    "alt_a[0,0]=987666\n",
    "alt_a[1,1]=2344"
   ]
  },
  {
   "cell_type": "code",
   "execution_count": 44,
   "id": "a4be55f6-e72a-4173-9aec-bac241c8b155",
   "metadata": {},
   "outputs": [
    {
     "data": {
      "text/plain": [
       "array([[987666,      2],\n",
       "       [     3,   2344],\n",
       "       [     7,      9]])"
      ]
     },
     "execution_count": 44,
     "metadata": {},
     "output_type": "execute_result"
    }
   ],
   "source": [
    "alt_a"
   ]
  },
  {
   "cell_type": "code",
   "execution_count": 45,
   "id": "dead1ce4-70a9-41bd-8907-26cec52a9db6",
   "metadata": {},
   "outputs": [
    {
     "data": {
      "text/plain": [
       "array([[987666,      2,      7,      3,      1],\n",
       "       [     3,   2344,      8,      4,      4],\n",
       "       [     7,      9,      9,      8,      5],\n",
       "       [     0,      9,      0,      2,      6],\n",
       "       [     8,      1,      8,      6,      4]])"
      ]
     },
     "execution_count": 45,
     "metadata": {},
     "output_type": "execute_result"
    }
   ],
   "source": [
    "a"
   ]
  },
  {
   "cell_type": "markdown",
   "id": "7599bd92-62bc-4fe9-93ad-175846a23d57",
   "metadata": {},
   "source": [
    "* sadece alt kümede değişiklik yapıp ana kümemin etkilenmesini istemiyor olabilirim bunun için"
   ]
  },
  {
   "cell_type": "code",
   "execution_count": 46,
   "id": "d4f2bcbc-6df2-4a95-b767-db7ddf293257",
   "metadata": {},
   "outputs": [
    {
     "data": {
      "text/plain": [
       "array([[5, 4, 8, 5, 2],\n",
       "       [1, 5, 6, 8, 2],\n",
       "       [0, 7, 8, 4, 8],\n",
       "       [9, 6, 2, 2, 5],\n",
       "       [6, 3, 4, 1, 4]])"
      ]
     },
     "execution_count": 46,
     "metadata": {},
     "output_type": "execute_result"
    }
   ],
   "source": [
    "m=np.random.randint(10,size=(5,5))\n",
    "m"
   ]
  },
  {
   "cell_type": "code",
   "execution_count": 48,
   "id": "aa95cb5c-de1f-43d9-b4cd-dbd9ad31f4c2",
   "metadata": {},
   "outputs": [
    {
     "data": {
      "text/plain": [
       "array([[5, 4],\n",
       "       [1, 5],\n",
       "       [0, 7]])"
      ]
     },
     "execution_count": 48,
     "metadata": {},
     "output_type": "execute_result"
    }
   ],
   "source": [
    "alt_m=m[0:3,0:2].copy() #seçmiş olduğumuz alt kümeyi ana array'den ayırır\n",
    "alt_m"
   ]
  },
  {
   "cell_type": "code",
   "execution_count": 49,
   "id": "7f7f1454-c1fc-4eb1-83ad-0cda37f0b02e",
   "metadata": {},
   "outputs": [],
   "source": [
    "alt_m[0,1]=654\n",
    "alt_m[2,0]=444"
   ]
  },
  {
   "cell_type": "code",
   "execution_count": 50,
   "id": "fd7f5299-7d2b-43f2-acf8-331400420f56",
   "metadata": {},
   "outputs": [
    {
     "data": {
      "text/plain": [
       "array([[  5, 654],\n",
       "       [  1,   5],\n",
       "       [444,   7]])"
      ]
     },
     "execution_count": 50,
     "metadata": {},
     "output_type": "execute_result"
    }
   ],
   "source": [
    "alt_m"
   ]
  },
  {
   "cell_type": "code",
   "execution_count": 51,
   "id": "8e2e4df3-cd93-4065-bb20-9fd43b05d151",
   "metadata": {},
   "outputs": [
    {
     "data": {
      "text/plain": [
       "array([[5, 4, 8, 5, 2],\n",
       "       [1, 5, 6, 8, 2],\n",
       "       [0, 7, 8, 4, 8],\n",
       "       [9, 6, 2, 2, 5],\n",
       "       [6, 3, 4, 1, 4]])"
      ]
     },
     "execution_count": 51,
     "metadata": {},
     "output_type": "execute_result"
    }
   ],
   "source": [
    "m"
   ]
  },
  {
   "cell_type": "markdown",
   "id": "49ba5e22-d4fc-48ad-9a0c-348d4c66e1bc",
   "metadata": {},
   "source": [
    "## Fancy ındex ile elemanlara erişmek "
   ]
  },
  {
   "cell_type": "code",
   "execution_count": 52,
   "id": "0f465c58-a3e4-4d0e-b7bd-d50211350ad7",
   "metadata": {},
   "outputs": [
    {
     "data": {
      "text/plain": [
       "array([ 0,  3,  6,  9, 12, 15, 18, 21, 24, 27])"
      ]
     },
     "execution_count": 52,
     "metadata": {},
     "output_type": "execute_result"
    }
   ],
   "source": [
    "import numpy as np\n",
    "v=np.arange(0,30,3)\n",
    "v"
   ]
  },
  {
   "cell_type": "code",
   "execution_count": 53,
   "id": "5f2d7435-77ab-48d5-85e8-e96c41532a84",
   "metadata": {},
   "outputs": [
    {
     "data": {
      "text/plain": [
       "3"
      ]
     },
     "execution_count": 53,
     "metadata": {},
     "output_type": "execute_result"
    }
   ],
   "source": [
    "v[1]"
   ]
  },
  {
   "cell_type": "code",
   "execution_count": 54,
   "id": "6c3287a1-d9d6-4b5b-b892-177e080878b5",
   "metadata": {},
   "outputs": [
    {
     "data": {
      "text/plain": [
       "9"
      ]
     },
     "execution_count": 54,
     "metadata": {},
     "output_type": "execute_result"
    }
   ],
   "source": [
    "v[3]"
   ]
  },
  {
   "cell_type": "code",
   "execution_count": 55,
   "id": "07f19a85-3555-41ca-bd86-6e63afce533e",
   "metadata": {},
   "outputs": [
    {
     "data": {
      "text/plain": [
       "15"
      ]
     },
     "execution_count": 55,
     "metadata": {},
     "output_type": "execute_result"
    }
   ],
   "source": [
    "v[5]"
   ]
  },
  {
   "cell_type": "code",
   "execution_count": 56,
   "id": "ac478efa-bd1f-4aa5-ab01-3a5d7d31b110",
   "metadata": {},
   "outputs": [
    {
     "data": {
      "text/plain": [
       "[3, 9, 15]"
      ]
     },
     "execution_count": 56,
     "metadata": {},
     "output_type": "execute_result"
    }
   ],
   "source": [
    "[v[1],v[3],v[5]]"
   ]
  },
  {
   "cell_type": "code",
   "execution_count": 57,
   "id": "4df47dc6-62fb-4e52-a401-4647896c20aa",
   "metadata": {},
   "outputs": [],
   "source": [
    "al_getir=[1,3,5]"
   ]
  },
  {
   "cell_type": "code",
   "execution_count": 58,
   "id": "dcebca1e-4333-444c-8338-269bbedd55a6",
   "metadata": {},
   "outputs": [
    {
     "data": {
      "text/plain": [
       "array([ 0,  3,  6,  9, 12, 15, 18, 21, 24, 27])"
      ]
     },
     "execution_count": 58,
     "metadata": {},
     "output_type": "execute_result"
    }
   ],
   "source": [
    "v"
   ]
  },
  {
   "cell_type": "code",
   "execution_count": 59,
   "id": "df52eb5c-3321-4860-82d9-887a6ad2332e",
   "metadata": {},
   "outputs": [
    {
     "data": {
      "text/plain": [
       "array([ 3,  9, 15])"
      ]
     },
     "execution_count": 59,
     "metadata": {},
     "output_type": "execute_result"
    }
   ],
   "source": [
    "v[al_getir]"
   ]
  },
  {
   "cell_type": "markdown",
   "id": "e7e2b936-45fd-4084-81d3-714c836f6873",
   "metadata": {},
   "source": [
    "* iki boyutta fancy"
   ]
  },
  {
   "cell_type": "code",
   "execution_count": 62,
   "id": "cb686939-4631-4608-811c-734db42888e9",
   "metadata": {},
   "outputs": [
    {
     "data": {
      "text/plain": [
       "array([[0, 1, 2],\n",
       "       [3, 4, 5],\n",
       "       [6, 7, 8]])"
      ]
     },
     "execution_count": 62,
     "metadata": {},
     "output_type": "execute_result"
    }
   ],
   "source": [
    "m=np.arange(9).reshape((3,3))\n",
    "m"
   ]
  },
  {
   "cell_type": "code",
   "execution_count": 63,
   "id": "9ba43f78-b589-4946-92b1-bebfcea257a4",
   "metadata": {},
   "outputs": [],
   "source": [
    "satır=[0,1]\n",
    "sütun=[1,2]"
   ]
  },
  {
   "cell_type": "code",
   "execution_count": 65,
   "id": "203e99ab-b371-4d8d-8ec6-92e40ac488d6",
   "metadata": {},
   "outputs": [
    {
     "data": {
      "text/plain": [
       "array([1, 5])"
      ]
     },
     "execution_count": 65,
     "metadata": {},
     "output_type": "execute_result"
    }
   ],
   "source": [
    "m[satır,sütun]"
   ]
  },
  {
   "cell_type": "markdown",
   "id": "a6437384-baaf-4321-8f3c-6e4c253fc47d",
   "metadata": {},
   "source": [
    "#basit index ile fancy index"
   ]
  },
  {
   "cell_type": "code",
   "execution_count": 66,
   "id": "56d9f099-4eba-43cb-ad5e-84e97cf0eea5",
   "metadata": {},
   "outputs": [
    {
     "data": {
      "text/plain": [
       "array([[0, 1, 2],\n",
       "       [3, 4, 5],\n",
       "       [6, 7, 8]])"
      ]
     },
     "execution_count": 66,
     "metadata": {},
     "output_type": "execute_result"
    }
   ],
   "source": [
    "m\n"
   ]
  },
  {
   "cell_type": "code",
   "execution_count": 67,
   "id": "4e9659da-714e-4c8d-9a8e-44ee97982c07",
   "metadata": {},
   "outputs": [
    {
     "data": {
      "text/plain": [
       "array([1, 2])"
      ]
     },
     "execution_count": 67,
     "metadata": {},
     "output_type": "execute_result"
    }
   ],
   "source": [
    "m[0,[1,2]] #fancy birden fazla eleman seçmek için liste veya numpy dizisinde kullanılır"
   ]
  },
  {
   "cell_type": "code",
   "execution_count": 72,
   "id": "c3c8c7b6-9f2d-4957-9bdd-ec7d1377e65f",
   "metadata": {},
   "outputs": [
    {
     "data": {
      "text/plain": [
       "array([[3, 4],\n",
       "       [6, 7]])"
      ]
     },
     "execution_count": 72,
     "metadata": {},
     "output_type": "execute_result"
    }
   ],
   "source": [
    "m[1:,[0,1]]"
   ]
  },
  {
   "cell_type": "markdown",
   "id": "8ce0103b-ea3f-4969-82f6-4ecc901c87f1",
   "metadata": {},
   "source": [
    "#slice ile fancy index"
   ]
  },
  {
   "cell_type": "code",
   "execution_count": 70,
   "id": "b312b8f6-24ac-47b4-a869-5a001d6be898",
   "metadata": {},
   "outputs": [
    {
     "data": {
      "text/plain": [
       "array([[0, 1, 2],\n",
       "       [3, 4, 5],\n",
       "       [6, 7, 8]])"
      ]
     },
     "execution_count": 70,
     "metadata": {},
     "output_type": "execute_result"
    }
   ],
   "source": [
    "m"
   ]
  },
  {
   "cell_type": "code",
   "execution_count": 71,
   "id": "64261472-08cf-46a3-ba11-d30df7b5cb3c",
   "metadata": {},
   "outputs": [
    {
     "data": {
      "text/plain": [
       "array([[1, 2],\n",
       "       [4, 5],\n",
       "       [7, 8]])"
      ]
     },
     "execution_count": 71,
     "metadata": {},
     "output_type": "execute_result"
    }
   ],
   "source": [
    "m[0:,[1,2]]"
   ]
  },
  {
   "cell_type": "markdown",
   "id": "ec6710a8-22ca-4cca-886f-cd915ee380f2",
   "metadata": {},
   "source": [
    "## koşullu eleman işlemleri"
   ]
  },
  {
   "cell_type": "code",
   "execution_count": 74,
   "id": "299cbd83-39c2-4e8c-8949-1da4e6cce630",
   "metadata": {},
   "outputs": [
    {
     "data": {
      "text/plain": [
       "array([1, 2, 3, 4, 5])"
      ]
     },
     "execution_count": 74,
     "metadata": {},
     "output_type": "execute_result"
    }
   ],
   "source": [
    "import numpy as np\n",
    "v=np.array([1,2,3,4,5])\n",
    "v"
   ]
  },
  {
   "cell_type": "code",
   "execution_count": 75,
   "id": "74d176bf-e0b1-4ced-9549-329562ab4175",
   "metadata": {},
   "outputs": [
    {
     "data": {
      "text/plain": [
       "array([ True,  True, False, False, False])"
      ]
     },
     "execution_count": 75,
     "metadata": {},
     "output_type": "execute_result"
    }
   ],
   "source": [
    "v<3"
   ]
  },
  {
   "cell_type": "code",
   "execution_count": 76,
   "id": "17aa3fb3-8aba-4485-bf69-c1009eab3989",
   "metadata": {},
   "outputs": [
    {
     "data": {
      "text/plain": [
       "array([1, 2])"
      ]
     },
     "execution_count": 76,
     "metadata": {},
     "output_type": "execute_result"
    }
   ],
   "source": [
    "v[v<3]"
   ]
  },
  {
   "cell_type": "code",
   "execution_count": 78,
   "id": "1dd22457-1800-4371-9d0d-0dd0dfc898cb",
   "metadata": {},
   "outputs": [
    {
     "data": {
      "text/plain": [
       "array([3, 4, 5])"
      ]
     },
     "execution_count": 78,
     "metadata": {},
     "output_type": "execute_result"
    }
   ],
   "source": [
    "v[v>=3]"
   ]
  },
  {
   "cell_type": "code",
   "execution_count": 79,
   "id": "da4eb4b9-4c9e-4098-b408-75a8602ecf10",
   "metadata": {},
   "outputs": [
    {
     "data": {
      "text/plain": [
       "array([3])"
      ]
     },
     "execution_count": 79,
     "metadata": {},
     "output_type": "execute_result"
    }
   ],
   "source": [
    "v[v==3]"
   ]
  },
  {
   "cell_type": "code",
   "execution_count": 80,
   "id": "d09282d2-a155-4b3b-b425-62472f179296",
   "metadata": {},
   "outputs": [
    {
     "data": {
      "text/plain": [
       "array([1, 2, 4, 5])"
      ]
     },
     "execution_count": 80,
     "metadata": {},
     "output_type": "execute_result"
    }
   ],
   "source": [
    "v[v!=3]"
   ]
  },
  {
   "cell_type": "code",
   "execution_count": 81,
   "id": "630e726b-b19e-4676-aa59-64afffc6a6b4",
   "metadata": {},
   "outputs": [
    {
     "data": {
      "text/plain": [
       "array([1, 2, 3, 4, 5])"
      ]
     },
     "execution_count": 81,
     "metadata": {},
     "output_type": "execute_result"
    }
   ],
   "source": [
    "v"
   ]
  },
  {
   "cell_type": "code",
   "execution_count": 82,
   "id": "dc861093-0cd4-41fd-93a1-f22faa39ed2d",
   "metadata": {},
   "outputs": [
    {
     "data": {
      "text/plain": [
       "array([0.5, 1. , 1.5, 2. , 2.5])"
      ]
     },
     "execution_count": 82,
     "metadata": {},
     "output_type": "execute_result"
    }
   ],
   "source": [
    "v/2"
   ]
  },
  {
   "cell_type": "code",
   "execution_count": 83,
   "id": "2a6b7505-f767-42af-b333-712e4fc62253",
   "metadata": {},
   "outputs": [
    {
     "data": {
      "text/plain": [
       "array([0.5, 1. , 1.5, 2. , 2.5])"
      ]
     },
     "execution_count": 83,
     "metadata": {},
     "output_type": "execute_result"
    }
   ],
   "source": [
    "v*5/10"
   ]
  },
  {
   "cell_type": "code",
   "execution_count": 84,
   "id": "ee520821-660a-48a3-97d9-5bb661152d7a",
   "metadata": {},
   "outputs": [
    {
     "data": {
      "text/plain": [
       "array([ 1,  4,  9, 16, 25])"
      ]
     },
     "execution_count": 84,
     "metadata": {},
     "output_type": "execute_result"
    }
   ],
   "source": [
    "v**2"
   ]
  },
  {
   "cell_type": "markdown",
   "id": "d47f36e9-6d45-4947-b658-07a56260720a",
   "metadata": {},
   "source": [
    "## Matematiksel işlemler"
   ]
  },
  {
   "cell_type": "code",
   "execution_count": 86,
   "id": "73dc1c37-ffb6-4bcc-a8a5-5394796c9772",
   "metadata": {},
   "outputs": [
    {
     "data": {
      "text/plain": [
       "array([1, 2, 3, 4, 5])"
      ]
     },
     "execution_count": 86,
     "metadata": {},
     "output_type": "execute_result"
    }
   ],
   "source": [
    "import numpy as np\n",
    "v=np.array([1,2,3,4,5])\n",
    "v"
   ]
  },
  {
   "cell_type": "code",
   "execution_count": 87,
   "id": "a89d85b4-be03-4f99-98c2-1a376dfe158b",
   "metadata": {},
   "outputs": [
    {
     "data": {
      "text/plain": [
       "array([0, 1, 2, 3, 4])"
      ]
     },
     "execution_count": 87,
     "metadata": {},
     "output_type": "execute_result"
    }
   ],
   "source": [
    "v-1"
   ]
  },
  {
   "cell_type": "code",
   "execution_count": 88,
   "id": "b5c479fe-e5bf-4e8e-85fa-2abbe16a2981",
   "metadata": {},
   "outputs": [
    {
     "data": {
      "text/plain": [
       "array([0.2, 0.4, 0.6, 0.8, 1. ])"
      ]
     },
     "execution_count": 88,
     "metadata": {},
     "output_type": "execute_result"
    }
   ],
   "source": [
    "v/5"
   ]
  },
  {
   "cell_type": "code",
   "execution_count": 89,
   "id": "9577dbcd-6f31-41a6-bbe0-9ba07d64c642",
   "metadata": {},
   "outputs": [],
   "source": [
    "#ufunc"
   ]
  },
  {
   "cell_type": "code",
   "execution_count": 90,
   "id": "8bf1b5cd-7b4d-4671-b026-bd6a646c1b55",
   "metadata": {},
   "outputs": [
    {
     "data": {
      "text/plain": [
       "array([0, 1, 2, 3, 4])"
      ]
     },
     "execution_count": 90,
     "metadata": {},
     "output_type": "execute_result"
    }
   ],
   "source": [
    "np.subtract(v,1)  # v-1"
   ]
  },
  {
   "cell_type": "code",
   "execution_count": 91,
   "id": "1be6185f-ef96-470d-bbcf-a979f843d046",
   "metadata": {},
   "outputs": [
    {
     "data": {
      "text/plain": [
       "array([2, 3, 4, 5, 6])"
      ]
     },
     "execution_count": 91,
     "metadata": {},
     "output_type": "execute_result"
    }
   ],
   "source": [
    "np.add(v,1)  # v+1"
   ]
  },
  {
   "cell_type": "code",
   "execution_count": 92,
   "id": "3572b5f3-48bb-4b82-b68f-a6702a41daa9",
   "metadata": {},
   "outputs": [
    {
     "data": {
      "text/plain": [
       "array([ 4,  8, 12, 16, 20])"
      ]
     },
     "execution_count": 92,
     "metadata": {},
     "output_type": "execute_result"
    }
   ],
   "source": [
    "np.multiply(v,4)  #v*4"
   ]
  },
  {
   "cell_type": "code",
   "execution_count": 93,
   "id": "ee8f93da-69b8-49df-bb44-54389cb3eb35",
   "metadata": {},
   "outputs": [
    {
     "data": {
      "text/plain": [
       "array([0.33333333, 0.66666667, 1.        , 1.33333333, 1.66666667])"
      ]
     },
     "execution_count": 93,
     "metadata": {},
     "output_type": "execute_result"
    }
   ],
   "source": [
    "np.divide(v,3)  #v/3"
   ]
  },
  {
   "cell_type": "code",
   "execution_count": 94,
   "id": "2f75ab44-471f-4745-8c09-55b1dadb73d3",
   "metadata": {},
   "outputs": [
    {
     "data": {
      "text/plain": [
       "array([  1,   8,  27,  64, 125], dtype=int32)"
      ]
     },
     "execution_count": 94,
     "metadata": {},
     "output_type": "execute_result"
    }
   ],
   "source": [
    "np.power(v,3)  #v**3"
   ]
  },
  {
   "cell_type": "code",
   "execution_count": 95,
   "id": "3805ab94-012e-4f2c-b2c1-4e960a5ed64e",
   "metadata": {},
   "outputs": [
    {
     "data": {
      "text/plain": [
       "array([1, 0, 1, 0, 1], dtype=int32)"
      ]
     },
     "execution_count": 95,
     "metadata": {},
     "output_type": "execute_result"
    }
   ],
   "source": [
    "np.mod(v,2)  #v%2"
   ]
  },
  {
   "cell_type": "code",
   "execution_count": 96,
   "id": "5de63f23-0346-4473-88eb-14a1ff28d385",
   "metadata": {},
   "outputs": [
    {
     "data": {
      "text/plain": [
       "array([3])"
      ]
     },
     "execution_count": 96,
     "metadata": {},
     "output_type": "execute_result"
    }
   ],
   "source": [
    "np.absolute(np.array([-3]))  #mutlak değer"
   ]
  },
  {
   "cell_type": "code",
   "execution_count": 97,
   "id": "d0a1d1a2-ea23-42e9-82f5-61802ebb58a3",
   "metadata": {},
   "outputs": [
    {
     "data": {
      "text/plain": [
       "0.9589157234143065"
      ]
     },
     "execution_count": 97,
     "metadata": {},
     "output_type": "execute_result"
    }
   ],
   "source": [
    "np.sin(360)"
   ]
  },
  {
   "cell_type": "code",
   "execution_count": 99,
   "id": "307ddfeb-ca56-4219-a324-e39c4b06e303",
   "metadata": {},
   "outputs": [
    {
     "data": {
      "text/plain": [
       "-0.5984600690578581"
      ]
     },
     "execution_count": 99,
     "metadata": {},
     "output_type": "execute_result"
    }
   ],
   "source": [
    "np.cos(180)"
   ]
  },
  {
   "cell_type": "code",
   "execution_count": 101,
   "id": "8e548c30-a72e-445a-89de-c73490e52f75",
   "metadata": {},
   "outputs": [
    {
     "data": {
      "text/plain": [
       "array([0.        , 0.69314718, 1.09861229, 1.38629436, 1.60943791])"
      ]
     },
     "execution_count": 101,
     "metadata": {},
     "output_type": "execute_result"
    }
   ],
   "source": [
    "np.log(v)"
   ]
  },
  {
   "cell_type": "code",
   "execution_count": 103,
   "id": "b42b0ee5-3d65-4632-a078-4dc6f7301b33",
   "metadata": {},
   "outputs": [
    {
     "data": {
      "text/plain": [
       "array([0.        , 1.        , 1.5849625 , 2.        , 2.32192809])"
      ]
     },
     "execution_count": 103,
     "metadata": {},
     "output_type": "execute_result"
    }
   ],
   "source": [
    "np.log2(v)"
   ]
  },
  {
   "cell_type": "markdown",
   "id": "174acfd6-5629-4ba6-8a6a-064f58c7f42f",
   "metadata": {},
   "source": [
    "## Numpy ile iki bilinmeyenli denklem çözümü"
   ]
  },
  {
   "cell_type": "code",
   "execution_count": 104,
   "id": "3836f4b3-e083-4440-8842-6fc0dc4c8a1b",
   "metadata": {},
   "outputs": [],
   "source": [
    "import numpy as np\n"
   ]
  },
  {
   "cell_type": "markdown",
   "id": "1c7dcefb-7dd7-4463-8e72-5fa1d633f77d",
   "metadata": {},
   "source": [
    "5*x0+x1=12\n",
    "x0+3*x1=10"
   ]
  },
  {
   "cell_type": "code",
   "execution_count": 108,
   "id": "fa6c01fe-6021-4d0a-ae6d-c8cc5e184cdc",
   "metadata": {},
   "outputs": [],
   "source": [
    "a=np.array([[5,1],[1,3]])\n",
    "b=np.array([12,10])"
   ]
  },
  {
   "cell_type": "code",
   "execution_count": 109,
   "id": "2a6db7cd-4da7-49c5-8243-9ccb458c1879",
   "metadata": {},
   "outputs": [
    {
     "data": {
      "text/plain": [
       "array([[5, 1],\n",
       "       [1, 3]])"
      ]
     },
     "execution_count": 109,
     "metadata": {},
     "output_type": "execute_result"
    }
   ],
   "source": [
    "a"
   ]
  },
  {
   "cell_type": "code",
   "execution_count": 110,
   "id": "bbef4607-fa52-4f35-88a0-b1e8a70b4e65",
   "metadata": {},
   "outputs": [
    {
     "data": {
      "text/plain": [
       "array([12, 10])"
      ]
     },
     "execution_count": 110,
     "metadata": {},
     "output_type": "execute_result"
    }
   ],
   "source": [
    "b"
   ]
  },
  {
   "cell_type": "code",
   "execution_count": 111,
   "id": "dd946107-b812-4129-bc55-ab854fc5fb50",
   "metadata": {},
   "outputs": [
    {
     "data": {
      "text/plain": [
       "array([1.85714286, 2.71428571])"
      ]
     },
     "execution_count": 111,
     "metadata": {},
     "output_type": "execute_result"
    }
   ],
   "source": [
    "x=np.linalg.solve(a,b)\n",
    "x"
   ]
  },
  {
   "cell_type": "code",
   "execution_count": null,
   "id": "67830734-2cc8-4c7e-b2d0-41a67265d7ef",
   "metadata": {},
   "outputs": [],
   "source": []
  }
 ],
 "metadata": {
  "kernelspec": {
   "display_name": "Python 3 (ipykernel)",
   "language": "python",
   "name": "python3"
  },
  "language_info": {
   "codemirror_mode": {
    "name": "ipython",
    "version": 3
   },
   "file_extension": ".py",
   "mimetype": "text/x-python",
   "name": "python",
   "nbconvert_exporter": "python",
   "pygments_lexer": "ipython3",
   "version": "3.11.7"
  }
 },
 "nbformat": 4,
 "nbformat_minor": 5
}
