{
 "cells": [
  {
   "cell_type": "code",
   "execution_count": 1,
   "id": "63c6ae06-198b-44b0-ba4f-79c4d1f6f036",
   "metadata": {},
   "outputs": [],
   "source": [
    "import numpy as np"
   ]
  },
  {
   "cell_type": "code",
   "execution_count": 3,
   "id": "26abbc3b-35b7-4f8d-a40d-828cb3fa979a",
   "metadata": {},
   "outputs": [],
   "source": [
    "a=np.array([1,2,5,4,3,7,6]) #liste üzerinden array olusturma"
   ]
  },
  {
   "cell_type": "code",
   "execution_count": 4,
   "id": "d32c94ac-893b-4608-b644-4218f19388e5",
   "metadata": {},
   "outputs": [
    {
     "data": {
      "text/plain": [
       "numpy.ndarray"
      ]
     },
     "execution_count": 4,
     "metadata": {},
     "output_type": "execute_result"
    }
   ],
   "source": [
    "type(a)"
   ]
  },
  {
   "cell_type": "code",
   "execution_count": 16,
   "id": "2d2068af-b60a-4f9f-86af-43522f4bcb22",
   "metadata": {},
   "outputs": [
    {
     "data": {
      "text/plain": [
       "array([ 0,  1,  2,  3,  4,  5,  6,  7,  8,  9, 10, 11, 12, 13, 14, 15, 16,\n",
       "       17, 18, 19])"
      ]
     },
     "execution_count": 16,
     "metadata": {},
     "output_type": "execute_result"
    }
   ],
   "source": [
    "np.arange(0,20) #sıfırdan array oluşturma"
   ]
  },
  {
   "cell_type": "code",
   "execution_count": 8,
   "id": "6ad10d87-cad1-47a1-887c-462a5f52691d",
   "metadata": {},
   "outputs": [],
   "source": [
    "a=np.random.randint(0,20,(4,5)) #sıfırdan array olusturma"
   ]
  },
  {
   "cell_type": "code",
   "execution_count": 9,
   "id": "9db49793-2d7f-46f4-907f-34f030a37345",
   "metadata": {},
   "outputs": [
    {
     "data": {
      "text/plain": [
       "array([[18,  0,  4, 11,  2],\n",
       "       [ 2, 18,  3, 18,  8],\n",
       "       [16, 12,  3, 14, 14],\n",
       "       [ 4,  2, 18,  9, 12]])"
      ]
     },
     "execution_count": 9,
     "metadata": {},
     "output_type": "execute_result"
    }
   ],
   "source": [
    "a"
   ]
  },
  {
   "cell_type": "code",
   "execution_count": 10,
   "id": "55ebbd26-e568-4efd-9630-06706bf1fabc",
   "metadata": {},
   "outputs": [
    {
     "data": {
      "text/plain": [
       "2"
      ]
     },
     "execution_count": 10,
     "metadata": {},
     "output_type": "execute_result"
    }
   ],
   "source": [
    "a.ndim #boyut sayısı"
   ]
  },
  {
   "cell_type": "code",
   "execution_count": 12,
   "id": "a13b6875-aa37-4773-82d0-4e24d4d3795e",
   "metadata": {},
   "outputs": [
    {
     "data": {
      "text/plain": [
       "(4, 5)"
      ]
     },
     "execution_count": 12,
     "metadata": {},
     "output_type": "execute_result"
    }
   ],
   "source": [
    "a.shape #boyut bilgisi"
   ]
  },
  {
   "cell_type": "code",
   "execution_count": 13,
   "id": "66213d61-a607-4ff4-a5ad-46db9e8db1d5",
   "metadata": {},
   "outputs": [
    {
     "data": {
      "text/plain": [
       "20"
      ]
     },
     "execution_count": 13,
     "metadata": {},
     "output_type": "execute_result"
    }
   ],
   "source": [
    "a.size #eleman sayısı"
   ]
  },
  {
   "cell_type": "code",
   "execution_count": 14,
   "id": "6ff48444-3c5b-48d8-ac97-cda27c6393f6",
   "metadata": {},
   "outputs": [
    {
     "data": {
      "text/plain": [
       "dtype('int32')"
      ]
     },
     "execution_count": 14,
     "metadata": {},
     "output_type": "execute_result"
    }
   ],
   "source": [
    "a.dtype # array veri tipi"
   ]
  },
  {
   "cell_type": "code",
   "execution_count": 63,
   "id": "e87192a1-3350-4e78-83b3-2442d4e04739",
   "metadata": {},
   "outputs": [
    {
     "data": {
      "text/plain": [
       "array([[ 0,  1,  2,  3,  4],\n",
       "       [ 5,  6,  7,  8,  9],\n",
       "       [10, 11, 12, 13, 14],\n",
       "       [15, 16, 17, 18, 19]])"
      ]
     },
     "execution_count": 63,
     "metadata": {},
     "output_type": "execute_result"
    }
   ],
   "source": [
    "np.arange(0,20).reshape((4,5)) #tek boyuttan çok boyuta çevirmek"
   ]
  },
  {
   "cell_type": "code",
   "execution_count": 21,
   "id": "bfd60c7f-4cf9-48fd-b84b-feaf46e6dad9",
   "metadata": {},
   "outputs": [],
   "source": [
    "a=np.arange(1,10)  # tek boyuttan çok boyuta çevirmek"
   ]
  },
  {
   "cell_type": "code",
   "execution_count": 22,
   "id": "c4157a35-1a90-4483-a2b5-684066586dcf",
   "metadata": {},
   "outputs": [],
   "source": [
    "b=a.reshape(1,9)"
   ]
  },
  {
   "cell_type": "code",
   "execution_count": 23,
   "id": "363690b5-b6c1-4be1-af88-058633a41d00",
   "metadata": {},
   "outputs": [
    {
     "data": {
      "text/plain": [
       "array([[1, 2, 3, 4, 5, 6, 7, 8, 9]])"
      ]
     },
     "execution_count": 23,
     "metadata": {},
     "output_type": "execute_result"
    }
   ],
   "source": [
    "b"
   ]
  },
  {
   "cell_type": "code",
   "execution_count": 24,
   "id": "3e367222-c639-4c97-b957-4fd089fa89d3",
   "metadata": {},
   "outputs": [
    {
     "data": {
      "text/plain": [
       "2"
      ]
     },
     "execution_count": 24,
     "metadata": {},
     "output_type": "execute_result"
    }
   ],
   "source": [
    "b.ndim"
   ]
  },
  {
   "cell_type": "code",
   "execution_count": 25,
   "id": "2a4cfe85-89e9-41e9-88fb-6f199bd925e9",
   "metadata": {},
   "outputs": [],
   "source": [
    "x=np.array([0,9,8,7])\n",
    "y=np.array([6,5,4,3])"
   ]
  },
  {
   "cell_type": "code",
   "execution_count": 26,
   "id": "76d45620-2513-405a-a2fe-f1babac6e43b",
   "metadata": {},
   "outputs": [
    {
     "data": {
      "text/plain": [
       "array([0, 9, 8, 7, 6, 5, 4, 3])"
      ]
     },
     "execution_count": 26,
     "metadata": {},
     "output_type": "execute_result"
    }
   ],
   "source": [
    "np.concatenate([x,y]) #birleştirme"
   ]
  },
  {
   "cell_type": "code",
   "execution_count": 34,
   "id": "e70c50d8-021b-4fb6-8fdd-f4430592337d",
   "metadata": {},
   "outputs": [],
   "source": [
    "e=np.random.randint(1,10,(4,3))\n",
    "t=np.random.randint(0,16,(4,3))"
   ]
  },
  {
   "cell_type": "code",
   "execution_count": 35,
   "id": "d6b3e774-7584-4b49-a118-2a6596b53598",
   "metadata": {},
   "outputs": [
    {
     "data": {
      "text/plain": [
       "array([[ 3,  2,  7],\n",
       "       [ 1,  7,  3],\n",
       "       [ 3,  9,  2],\n",
       "       [ 9,  1,  9],\n",
       "       [ 8,  9,  6],\n",
       "       [10, 10,  4],\n",
       "       [ 7, 12,  1],\n",
       "       [ 0, 11, 12]])"
      ]
     },
     "execution_count": 35,
     "metadata": {},
     "output_type": "execute_result"
    }
   ],
   "source": [
    "np.concatenate([e,t]) #satıra göre sıraladık,çok boyutlu birleştirme"
   ]
  },
  {
   "cell_type": "code",
   "execution_count": 36,
   "id": "cd88e2a1-97a2-4569-8fbd-a7695da58466",
   "metadata": {},
   "outputs": [
    {
     "data": {
      "text/plain": [
       "array([[ 3,  2,  7,  8,  9,  6],\n",
       "       [ 1,  7,  3, 10, 10,  4],\n",
       "       [ 3,  9,  2,  7, 12,  1],\n",
       "       [ 9,  1,  9,  0, 11, 12]])"
      ]
     },
     "execution_count": 36,
     "metadata": {},
     "output_type": "execute_result"
    }
   ],
   "source": [
    "np.concatenate([e,t],axis=1)"
   ]
  },
  {
   "cell_type": "code",
   "execution_count": 37,
   "id": "ef82067b-78d2-40d8-8b5f-d1030edf15b6",
   "metadata": {},
   "outputs": [],
   "source": [
    "x=np.array([1,2,3,4,5,6,7,8,9,0]) #tek boyutlu ayırma"
   ]
  },
  {
   "cell_type": "code",
   "execution_count": 39,
   "id": "0d64e5ab-b35f-4a3b-8054-98b8f6bfb472",
   "metadata": {},
   "outputs": [
    {
     "data": {
      "text/plain": [
       "[array([1, 2, 3]), array([4, 5, 6, 7]), array([8, 9, 0])]"
      ]
     },
     "execution_count": 39,
     "metadata": {},
     "output_type": "execute_result"
    }
   ],
   "source": [
    "np.split(x,[3,7])"
   ]
  },
  {
   "cell_type": "code",
   "execution_count": 42,
   "id": "8863d37d-4344-41ca-9699-6a60c3ee48e7",
   "metadata": {},
   "outputs": [],
   "source": [
    "a=np.arange(16) #çift boyutlu ayırma"
   ]
  },
  {
   "cell_type": "code",
   "execution_count": 43,
   "id": "c3784adb-d0c1-4892-a0e8-4918e2ba7b3f",
   "metadata": {},
   "outputs": [],
   "source": [
    "b=np.arange(16).reshape(4,4)"
   ]
  },
  {
   "cell_type": "code",
   "execution_count": 44,
   "id": "0731322e-68e2-4892-a84f-67f5478c8aec",
   "metadata": {},
   "outputs": [
    {
     "data": {
      "text/plain": [
       "2"
      ]
     },
     "execution_count": 44,
     "metadata": {},
     "output_type": "execute_result"
    }
   ],
   "source": [
    "b.ndim"
   ]
  },
  {
   "cell_type": "code",
   "execution_count": 45,
   "id": "23cfd16a-6c75-49de-8720-8b0249e75494",
   "metadata": {},
   "outputs": [
    {
     "data": {
      "text/plain": [
       "array([[ 0,  1,  2,  3],\n",
       "       [ 4,  5,  6,  7],\n",
       "       [ 8,  9, 10, 11],\n",
       "       [12, 13, 14, 15]])"
      ]
     },
     "execution_count": 45,
     "metadata": {},
     "output_type": "execute_result"
    }
   ],
   "source": [
    "b"
   ]
  },
  {
   "cell_type": "code",
   "execution_count": 53,
   "id": "88200f2e-ae01-44ba-b90f-44b47ba08e4d",
   "metadata": {},
   "outputs": [
    {
     "data": {
      "text/plain": [
       "[array([[0, 1, 2, 3]]),\n",
       " array([[ 4,  5,  6,  7],\n",
       "        [ 8,  9, 10, 11]]),\n",
       " array([[12, 13, 14, 15]])]"
      ]
     },
     "execution_count": 53,
     "metadata": {},
     "output_type": "execute_result"
    }
   ],
   "source": [
    "np.split(b,[1,3],axis=0)"
   ]
  },
  {
   "cell_type": "code",
   "execution_count": 59,
   "id": "068379e6-2d55-440a-b66e-cf8682c375da",
   "metadata": {},
   "outputs": [],
   "source": [
    "a=np.random.randint(0,20,[4,5]) #çift boyutlu ayırma"
   ]
  },
  {
   "cell_type": "code",
   "execution_count": 60,
   "id": "74c0a4da-cb9c-403c-8711-4d4f0d6e349d",
   "metadata": {},
   "outputs": [
    {
     "data": {
      "text/plain": [
       "array([[ 4, 10, 18,  6,  4],\n",
       "       [ 8, 12,  4,  3, 11],\n",
       "       [ 8,  0, 10, 19,  1],\n",
       "       [10, 17,  2, 12,  7]])"
      ]
     },
     "execution_count": 60,
     "metadata": {},
     "output_type": "execute_result"
    }
   ],
   "source": [
    "a"
   ]
  },
  {
   "cell_type": "code",
   "execution_count": 61,
   "id": "53fd62bc-a124-42d8-919c-0e57400778fc",
   "metadata": {},
   "outputs": [
    {
     "data": {
      "text/plain": [
       "[array([[ 4, 10, 18,  6,  4],\n",
       "        [ 8, 12,  4,  3, 11],\n",
       "        [ 8,  0, 10, 19,  1]]),\n",
       " array([[10, 17,  2, 12,  7]])]"
      ]
     },
     "execution_count": 61,
     "metadata": {},
     "output_type": "execute_result"
    }
   ],
   "source": [
    "np.vsplit(a,[3])"
   ]
  },
  {
   "cell_type": "code",
   "execution_count": 62,
   "id": "f4e82881-07a9-401b-8328-1ad27e0a2e79",
   "metadata": {},
   "outputs": [
    {
     "data": {
      "text/plain": [
       "[array([[ 4, 10, 18],\n",
       "        [ 8, 12,  4],\n",
       "        [ 8,  0, 10],\n",
       "        [10, 17,  2]]),\n",
       " array([[ 6,  4],\n",
       "        [ 3, 11],\n",
       "        [19,  1],\n",
       "        [12,  7]])]"
      ]
     },
     "execution_count": 62,
     "metadata": {},
     "output_type": "execute_result"
    }
   ],
   "source": [
    "np.hsplit(a,[3])"
   ]
  },
  {
   "cell_type": "code",
   "execution_count": 64,
   "id": "a9370478-dd60-41d6-a6b8-9a569adb3eb1",
   "metadata": {},
   "outputs": [],
   "source": [
    "a=np.array([3,5,4,3,6,4,9,7])\n"
   ]
  },
  {
   "cell_type": "code",
   "execution_count": 65,
   "id": "2ea5ed39-9f92-4295-82b1-2d4544b914dd",
   "metadata": {},
   "outputs": [
    {
     "data": {
      "text/plain": [
       "array([3, 3, 4, 4, 5, 6, 7, 9])"
      ]
     },
     "execution_count": 65,
     "metadata": {},
     "output_type": "execute_result"
    }
   ],
   "source": [
    "np.sort(a) #yapı bozulmadı"
   ]
  },
  {
   "cell_type": "code",
   "execution_count": 67,
   "id": "8b2a571b-d8b9-40a2-aa9d-5ba270d9f165",
   "metadata": {},
   "outputs": [],
   "source": [
    "a.sort() #yapı bozuldu"
   ]
  },
  {
   "cell_type": "code",
   "execution_count": 68,
   "id": "368f719a-85ea-4ebb-9662-49847dcb67ff",
   "metadata": {},
   "outputs": [
    {
     "data": {
      "text/plain": [
       "array([3, 3, 4, 4, 5, 6, 7, 9])"
      ]
     },
     "execution_count": 68,
     "metadata": {},
     "output_type": "execute_result"
    }
   ],
   "source": [
    "a"
   ]
  },
  {
   "cell_type": "code",
   "execution_count": 69,
   "id": "ccd7961b-dd83-4cbf-8033-f8f0ceefb25b",
   "metadata": {},
   "outputs": [],
   "source": [
    "a=np.random.randint(0,16,(4,4))"
   ]
  },
  {
   "cell_type": "code",
   "execution_count": 70,
   "id": "43f5ac8c-1927-4b56-a610-e72ec7636ee9",
   "metadata": {},
   "outputs": [
    {
     "data": {
      "text/plain": [
       "array([[15, 14, 11,  1],\n",
       "       [ 1,  2, 12, 10],\n",
       "       [15,  6, 11, 15],\n",
       "       [13, 13, 11,  9]])"
      ]
     },
     "execution_count": 70,
     "metadata": {},
     "output_type": "execute_result"
    }
   ],
   "source": [
    "a"
   ]
  },
  {
   "cell_type": "code",
   "execution_count": 72,
   "id": "7a1e7dd2-cee8-4a6d-b8e5-5489a1d171a7",
   "metadata": {},
   "outputs": [
    {
     "data": {
      "text/plain": [
       "array([[ 1,  2, 11,  1],\n",
       "       [13,  6, 11,  9],\n",
       "       [15, 13, 11, 10],\n",
       "       [15, 14, 12, 15]])"
      ]
     },
     "execution_count": 72,
     "metadata": {},
     "output_type": "execute_result"
    }
   ],
   "source": [
    "np.sort(a,axis=0)"
   ]
  },
  {
   "cell_type": "code",
   "execution_count": null,
   "id": "1bdcb472-edbc-4023-98db-22be3c8cb6d1",
   "metadata": {},
   "outputs": [],
   "source": []
  }
 ],
 "metadata": {
  "kernelspec": {
   "display_name": "Python 3 (ipykernel)",
   "language": "python",
   "name": "python3"
  },
  "language_info": {
   "codemirror_mode": {
    "name": "ipython",
    "version": 3
   },
   "file_extension": ".py",
   "mimetype": "text/x-python",
   "name": "python",
   "nbconvert_exporter": "python",
   "pygments_lexer": "ipython3",
   "version": "3.11.7"
  }
 },
 "nbformat": 4,
 "nbformat_minor": 5
}
