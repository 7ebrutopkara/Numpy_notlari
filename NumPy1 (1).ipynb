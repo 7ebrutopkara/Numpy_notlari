{
 "cells": [
  {
   "cell_type": "code",
   "execution_count": null,
   "id": "8936425e-7acb-41a2-9dc1-92e17d5bf45d",
   "metadata": {},
   "outputs": [],
   "source": []
  },
  {
   "cell_type": "code",
   "execution_count": 1,
   "id": "f65c029d-1c27-4280-ac1d-a1503914e555",
   "metadata": {},
   "outputs": [],
   "source": [
    "a=[1,2,3,4,5]\n",
    "b=[6,7,8,9,0]"
   ]
  },
  {
   "cell_type": "code",
   "execution_count": 4,
   "id": "aedaea50-cb65-4923-a22d-6957f4cbb68e",
   "metadata": {},
   "outputs": [],
   "source": [
    "ab=[]\n",
    "for i in range(0,len(a)):\n",
    "    yeni=a[i]*b[i]\n",
    "    ab.append(yeni)"
   ]
  },
  {
   "cell_type": "code",
   "execution_count": 5,
   "id": "2aea65d8-7ec6-4694-9315-cd71e679f001",
   "metadata": {
    "scrolled": true
   },
   "outputs": [
    {
     "data": {
      "text/plain": [
       "[6, 14, 24, 36, 0]"
      ]
     },
     "execution_count": 5,
     "metadata": {},
     "output_type": "execute_result"
    }
   ],
   "source": [
    "ab"
   ]
  },
  {
   "cell_type": "markdown",
   "id": "bde43a01-6946-4943-9f9d-211619dd3065",
   "metadata": {},
   "source": [
    "bunu kısayolla yapmak isyersem numpy araya giriyor"
   ]
  },
  {
   "cell_type": "code",
   "execution_count": 6,
   "id": "ce6492ec-f925-48ff-a675-4085f661aaad",
   "metadata": {},
   "outputs": [],
   "source": [
    "import numpy as np"
   ]
  },
  {
   "cell_type": "code",
   "execution_count": 10,
   "id": "550789ab-e9e1-4ffc-9bbb-928025d7e112",
   "metadata": {},
   "outputs": [],
   "source": [
    "a=np.array([1,2,3,4,5])\n",
    "b=np.array([6,7,8,9,0])"
   ]
  },
  {
   "cell_type": "code",
   "execution_count": 11,
   "id": "e6ffda36-c773-4dcf-ac7b-333c456cd1f0",
   "metadata": {},
   "outputs": [
    {
     "data": {
      "text/plain": [
       "array([ 6, 14, 24, 36,  0])"
      ]
     },
     "execution_count": 11,
     "metadata": {},
     "output_type": "execute_result"
    }
   ],
   "source": [
    "a*b"
   ]
  },
  {
   "cell_type": "markdown",
   "id": "2be63619-3440-4e59-bdd3-b4ff2547dbf4",
   "metadata": {},
   "source": [
    "# NumPy Array'i oluşturmak\n"
   ]
  },
  {
   "cell_type": "code",
   "execution_count": 12,
   "id": "47dc37a3-cc32-4804-9d4d-7cc09a500b6b",
   "metadata": {},
   "outputs": [],
   "source": [
    "import numpy as np"
   ]
  },
  {
   "cell_type": "markdown",
   "id": "f486f5f2-eab0-47f2-84ee-7ec8a0d29ca8",
   "metadata": {},
   "source": [
    "## 1)liste üzerinden array oluşturma"
   ]
  },
  {
   "cell_type": "code",
   "execution_count": 13,
   "id": "470c4609-9599-47fb-9a47-c628ac2865cb",
   "metadata": {},
   "outputs": [
    {
     "data": {
      "text/plain": [
       "array([1, 2, 3, 4, 5, 6])"
      ]
     },
     "execution_count": 13,
     "metadata": {},
     "output_type": "execute_result"
    }
   ],
   "source": [
    "np.array([1,2,3,4,5,6])"
   ]
  },
  {
   "cell_type": "code",
   "execution_count": 14,
   "id": "890fa52b-39b2-40a2-93f5-d934c669b208",
   "metadata": {},
   "outputs": [],
   "source": [
    "a=np.array([1,2,3,4,5,6])"
   ]
  },
  {
   "cell_type": "code",
   "execution_count": 15,
   "id": "3a1b6c3c-8e93-4589-95a6-b04706957034",
   "metadata": {},
   "outputs": [
    {
     "data": {
      "text/plain": [
       "numpy.ndarray"
      ]
     },
     "execution_count": 15,
     "metadata": {},
     "output_type": "execute_result"
    }
   ],
   "source": [
    "type(a)"
   ]
  },
  {
   "cell_type": "code",
   "execution_count": 18,
   "id": "ffe610d6-9ff9-4e61-80e4-c8707cb71baf",
   "metadata": {},
   "outputs": [
    {
     "data": {
      "text/plain": [
       "array([1.13, 2.  , 3.  , 5.7 , 6.  ])"
      ]
     },
     "execution_count": 18,
     "metadata": {},
     "output_type": "execute_result"
    }
   ],
   "source": [
    "np.array([1.13,2,3,5.7,6]) #NumPy tipi zorladığı için int değerlerin hep"
   ]
  },
  {
   "cell_type": "code",
   "execution_count": 20,
   "id": "8decb103-1cf0-4f19-8540-dfe5898d0944",
   "metadata": {},
   "outputs": [
    {
     "data": {
      "text/plain": [
       "array([1, 2, 3, 5, 6])"
      ]
     },
     "execution_count": 20,
     "metadata": {},
     "output_type": "execute_result"
    }
   ],
   "source": [
    "np.array([1.13,2,3,5.7,6],dtype=\"int\") #tipi belirtirsek ona dönüştürür"
   ]
  },
  {
   "cell_type": "markdown",
   "id": "cf4f07ef-581b-40a3-b03c-6e79d0054e48",
   "metadata": {},
   "source": [
    "# 2)sıfırdan array olusturma"
   ]
  },
  {
   "cell_type": "code",
   "execution_count": 21,
   "id": "fe61b99b-1f5d-4621-9770-04e764688a76",
   "metadata": {},
   "outputs": [
    {
     "data": {
      "text/plain": [
       "array([0, 0, 0, 0, 0, 0, 0, 0, 0, 0])"
      ]
     },
     "execution_count": 21,
     "metadata": {},
     "output_type": "execute_result"
    }
   ],
   "source": [
    "np.zeros(10,dtype=\"int\")"
   ]
  },
  {
   "cell_type": "code",
   "execution_count": 22,
   "id": "06c51add-318f-4a45-93bd-d1363297f856",
   "metadata": {},
   "outputs": [
    {
     "data": {
      "text/plain": [
       "array([[1, 1, 1, 1, 1],\n",
       "       [1, 1, 1, 1, 1],\n",
       "       [1, 1, 1, 1, 1]])"
      ]
     },
     "execution_count": 22,
     "metadata": {},
     "output_type": "execute_result"
    }
   ],
   "source": [
    "np.ones((3,5),dtype=int)"
   ]
  },
  {
   "cell_type": "code",
   "execution_count": 23,
   "id": "5f36c29a-dfc5-444f-b1cc-d4f7fa476ca5",
   "metadata": {},
   "outputs": [
    {
     "data": {
      "text/plain": [
       "array([[3, 3, 3, 3, 3],\n",
       "       [3, 3, 3, 3, 3],\n",
       "       [3, 3, 3, 3, 3]])"
      ]
     },
     "execution_count": 23,
     "metadata": {},
     "output_type": "execute_result"
    }
   ],
   "source": [
    "np.full((3,5),3,dtype=int) #sadece belirli bir sayıdan oluşturmak istiyorsam"
   ]
  },
  {
   "cell_type": "code",
   "execution_count": 24,
   "id": "9f784adf-e361-4945-9ea4-14bd9027ba20",
   "metadata": {},
   "outputs": [
    {
     "data": {
      "text/plain": [
       "array([ 0,  3,  6,  9, 12, 15, 18, 21, 24, 27, 30])"
      ]
     },
     "execution_count": 24,
     "metadata": {},
     "output_type": "execute_result"
    }
   ],
   "source": [
    "np.arange(0,31,3) #0 dan 31 e kadar 3 er 3 er artacak şekilde bir doğrusal array oluşturur"
   ]
  },
  {
   "cell_type": "code",
   "execution_count": 25,
   "id": "e14ea473-bc11-4acd-9a53-20226374eea6",
   "metadata": {},
   "outputs": [
    {
     "data": {
      "text/plain": [
       "array([0.        , 0.11111111, 0.22222222, 0.33333333, 0.44444444,\n",
       "       0.55555556, 0.66666667, 0.77777778, 0.88888889, 1.        ])"
      ]
     },
     "execution_count": 25,
     "metadata": {},
     "output_type": "execute_result"
    }
   ],
   "source": [
    "np.linspace(0,1,10) #iki sayı arasında belirli bir değer oluşturmak için kullanılır "
   ]
  },
  {
   "cell_type": "code",
   "execution_count": 26,
   "id": "953e238a-cf19-4818-8c66-eba90cfa150c",
   "metadata": {},
   "outputs": [
    {
     "data": {
      "text/plain": [
       "array([[10.01392746, 15.9143081 ,  3.05316671,  6.86900452],\n",
       "       [ 8.3981044 , 13.28394633,  4.77833634, 12.94215135],\n",
       "       [13.24683632, 19.77992639,  5.23073408,  1.57678526]])"
      ]
     },
     "execution_count": 26,
     "metadata": {},
     "output_type": "execute_result"
    }
   ],
   "source": [
    "np.random.normal(10,4,(3,4)) #dağılımı kendimiz belirledik"
   ]
  },
  {
   "cell_type": "code",
   "execution_count": 28,
   "id": "267cadc3-14a8-4107-8eef-d4442513397c",
   "metadata": {},
   "outputs": [
    {
     "data": {
      "text/plain": [
       "array([[8, 5, 8],\n",
       "       [4, 7, 7],\n",
       "       [4, 1, 1]])"
      ]
     },
     "execution_count": 28,
     "metadata": {},
     "output_type": "execute_result"
    }
   ],
   "source": [
    "np.random.randint(0,10,(3,3))  #int değerlerden rastgele oluşturulmus bir array"
   ]
  },
  {
   "cell_type": "markdown",
   "id": "3a8af75e-5b58-43f6-b49a-1e0fe303b17f",
   "metadata": {},
   "source": [
    "## NumPy Özellikleri\n",
    "\n",
    "* **ndim**: _boyut sayısı_\r\n",
    "* shape: boyut bilgisi\r\n",
    "* size: toplam eleman sayısı\r\n",
    "* dtype: array veri tipi"
   ]
  },
  {
   "cell_type": "code",
   "execution_count": 29,
   "id": "2d8677e1-6efa-421f-91db-dda4380e2710",
   "metadata": {},
   "outputs": [],
   "source": [
    "import numpy as np"
   ]
  },
  {
   "cell_type": "code",
   "execution_count": 32,
   "id": "719015de-d869-41f2-8f72-3476eba41d5d",
   "metadata": {},
   "outputs": [
    {
     "data": {
      "text/plain": [
       "array([6, 3, 4, 7, 0, 4, 2, 4, 5, 3])"
      ]
     },
     "execution_count": 32,
     "metadata": {},
     "output_type": "execute_result"
    }
   ],
   "source": [
    "np.random.randint(10,size=10)"
   ]
  },
  {
   "cell_type": "code",
   "execution_count": 33,
   "id": "3aa51bc2-eb61-46e1-a843-5349143c0289",
   "metadata": {},
   "outputs": [],
   "source": [
    "a=np.random.randint(10,size=10)"
   ]
  },
  {
   "cell_type": "code",
   "execution_count": 34,
   "id": "a7ef2021-afbc-47f2-845b-8230bed9a45f",
   "metadata": {},
   "outputs": [
    {
     "data": {
      "text/plain": [
       "1"
      ]
     },
     "execution_count": 34,
     "metadata": {},
     "output_type": "execute_result"
    }
   ],
   "source": [
    "a.ndim"
   ]
  },
  {
   "cell_type": "code",
   "execution_count": 35,
   "id": "7d388cc2-a06a-49fe-946f-b8a41e68438c",
   "metadata": {},
   "outputs": [
    {
     "data": {
      "text/plain": [
       "(10,)"
      ]
     },
     "execution_count": 35,
     "metadata": {},
     "output_type": "execute_result"
    }
   ],
   "source": [
    "a.shape"
   ]
  },
  {
   "cell_type": "code",
   "execution_count": 36,
   "id": "7f06ae1a-e40a-4d01-bec2-1e221fc9ea70",
   "metadata": {},
   "outputs": [
    {
     "data": {
      "text/plain": [
       "10"
      ]
     },
     "execution_count": 36,
     "metadata": {},
     "output_type": "execute_result"
    }
   ],
   "source": [
    "a.size"
   ]
  },
  {
   "cell_type": "code",
   "execution_count": 37,
   "id": "17587d6a-152a-44e9-a727-89d8152d4d7b",
   "metadata": {},
   "outputs": [
    {
     "data": {
      "text/plain": [
       "dtype('int32')"
      ]
     },
     "execution_count": 37,
     "metadata": {},
     "output_type": "execute_result"
    }
   ],
   "source": [
    "a.dtype"
   ]
  },
  {
   "cell_type": "code",
   "execution_count": 43,
   "id": "57476af7-a107-4f93-9bbd-bf97d48cf1d9",
   "metadata": {},
   "outputs": [],
   "source": [
    "b=np.random.randint(10,size=(3,5))"
   ]
  },
  {
   "cell_type": "code",
   "execution_count": 44,
   "id": "934cfc2c-9a01-40bc-893d-b30e03a6b533",
   "metadata": {},
   "outputs": [
    {
     "data": {
      "text/plain": [
       "array([[9, 5, 7, 0, 3],\n",
       "       [9, 8, 5, 5, 6],\n",
       "       [8, 4, 1, 7, 6]])"
      ]
     },
     "execution_count": 44,
     "metadata": {},
     "output_type": "execute_result"
    }
   ],
   "source": [
    "b"
   ]
  },
  {
   "cell_type": "code",
   "execution_count": 46,
   "id": "f75e1465-003d-4fd9-868b-0c5eaf2d00dd",
   "metadata": {},
   "outputs": [
    {
     "data": {
      "text/plain": [
       "2"
      ]
     },
     "execution_count": 46,
     "metadata": {},
     "output_type": "execute_result"
    }
   ],
   "source": [
    "b.ndim"
   ]
  },
  {
   "cell_type": "code",
   "execution_count": 47,
   "id": "64ef66b4-c829-4a47-aca9-937652f4548f",
   "metadata": {},
   "outputs": [
    {
     "data": {
      "text/plain": [
       "(3, 5)"
      ]
     },
     "execution_count": 47,
     "metadata": {},
     "output_type": "execute_result"
    }
   ],
   "source": [
    "b.shape"
   ]
  },
  {
   "cell_type": "code",
   "execution_count": 49,
   "id": "cf6e819b-9495-4846-9348-2454adf4845f",
   "metadata": {},
   "outputs": [
    {
     "data": {
      "text/plain": [
       "15"
      ]
     },
     "execution_count": 49,
     "metadata": {},
     "output_type": "execute_result"
    }
   ],
   "source": [
    "b.size"
   ]
  },
  {
   "cell_type": "code",
   "execution_count": 50,
   "id": "91043c09-18c6-40b3-887c-6d8d23ae6fea",
   "metadata": {},
   "outputs": [
    {
     "data": {
      "text/plain": [
       "dtype('int32')"
      ]
     },
     "execution_count": 50,
     "metadata": {},
     "output_type": "execute_result"
    }
   ],
   "source": [
    "b.dtype"
   ]
  },
  {
   "cell_type": "markdown",
   "id": "fd21fd5c-8f6e-4674-b15f-d86926bba4ca",
   "metadata": {},
   "source": [
    "## yeniden şekillendirme \"Reshape\""
   ]
  },
  {
   "cell_type": "code",
   "execution_count": 53,
   "id": "a494ffc7-ceea-4896-88ae-10d91f316934",
   "metadata": {},
   "outputs": [],
   "source": [
    "import numpy as np"
   ]
  },
  {
   "cell_type": "code",
   "execution_count": 83,
   "id": "dc377721-3c5a-4aae-89c3-67f7e1469dfe",
   "metadata": {},
   "outputs": [],
   "source": [
    "a=np.arange(1,10)"
   ]
  },
  {
   "cell_type": "code",
   "execution_count": 84,
   "id": "64c95cbb-0565-48aa-95b9-ba94468f65a7",
   "metadata": {},
   "outputs": [
    {
     "data": {
      "text/plain": [
       "1"
      ]
     },
     "execution_count": 84,
     "metadata": {},
     "output_type": "execute_result"
    }
   ],
   "source": [
    "a.ndim"
   ]
  },
  {
   "cell_type": "code",
   "execution_count": 85,
   "id": "e23e97dd-cb2e-4646-801b-bcf55f1c8615",
   "metadata": {},
   "outputs": [],
   "source": [
    "a=np.arange(1,10).reshape((3,3)) # tek boyutlu vektörü çok boyutlu matrise çevirdim"
   ]
  },
  {
   "cell_type": "code",
   "execution_count": 86,
   "id": "d1aac623-2d8b-4ddd-a723-f0db0cf8883b",
   "metadata": {},
   "outputs": [
    {
     "data": {
      "text/plain": [
       "array([[1, 2, 3],\n",
       "       [4, 5, 6],\n",
       "       [7, 8, 9]])"
      ]
     },
     "execution_count": 86,
     "metadata": {},
     "output_type": "execute_result"
    }
   ],
   "source": [
    "a"
   ]
  },
  {
   "cell_type": "code",
   "execution_count": 87,
   "id": "9537eb8b-addf-4be1-b65b-025bde36b2ed",
   "metadata": {},
   "outputs": [
    {
     "data": {
      "text/plain": [
       "2"
      ]
     },
     "execution_count": 87,
     "metadata": {},
     "output_type": "execute_result"
    }
   ],
   "source": [
    "a.ndim"
   ]
  },
  {
   "cell_type": "code",
   "execution_count": 77,
   "id": "c8fdbeac-e9de-4e9e-a238-86230b44248d",
   "metadata": {},
   "outputs": [],
   "source": [
    "a=np.arange(1,10)"
   ]
  },
  {
   "cell_type": "code",
   "execution_count": 78,
   "id": "df0ec256-ac5c-4e0d-b089-23985ff9693b",
   "metadata": {},
   "outputs": [
    {
     "data": {
      "text/plain": [
       "array([1, 2, 3, 4, 5, 6, 7, 8, 9])"
      ]
     },
     "execution_count": 78,
     "metadata": {},
     "output_type": "execute_result"
    }
   ],
   "source": [
    "a"
   ]
  },
  {
   "cell_type": "code",
   "execution_count": 79,
   "id": "97d35b11-6f7b-452d-8069-30f84ce558fe",
   "metadata": {},
   "outputs": [
    {
     "data": {
      "text/plain": [
       "1"
      ]
     },
     "execution_count": 79,
     "metadata": {},
     "output_type": "execute_result"
    }
   ],
   "source": [
    "a.ndim"
   ]
  },
  {
   "cell_type": "code",
   "execution_count": 80,
   "id": "32f13480-063c-4606-983f-6cf262e2a747",
   "metadata": {},
   "outputs": [],
   "source": [
    "b=a.reshape((1,9)) #tek boyuttan çok boyuta ama tek boyut bilgilerini taşıyacak"
   ]
  },
  {
   "cell_type": "code",
   "execution_count": 81,
   "id": "3b308833-138c-4390-8915-2d01261501b9",
   "metadata": {},
   "outputs": [
    {
     "data": {
      "text/plain": [
       "array([[1, 2, 3, 4, 5, 6, 7, 8, 9]])"
      ]
     },
     "execution_count": 81,
     "metadata": {},
     "output_type": "execute_result"
    }
   ],
   "source": [
    "b"
   ]
  },
  {
   "cell_type": "code",
   "execution_count": 82,
   "id": "94b815d8-fa88-495f-a6bf-23088128b387",
   "metadata": {},
   "outputs": [
    {
     "data": {
      "text/plain": [
       "2"
      ]
     },
     "execution_count": 82,
     "metadata": {},
     "output_type": "execute_result"
    }
   ],
   "source": [
    "b.ndim"
   ]
  },
  {
   "cell_type": "markdown",
   "id": "7c57f8a2-b642-435a-9d69-6070dc3a7555",
   "metadata": {},
   "source": [
    "## array birleştirme \"Concatenate\""
   ]
  },
  {
   "cell_type": "code",
   "execution_count": 88,
   "id": "2066d9f1-2250-48c5-adb0-b4af6b4e41be",
   "metadata": {},
   "outputs": [],
   "source": [
    "import numpy as np "
   ]
  },
  {
   "cell_type": "code",
   "execution_count": 89,
   "id": "7ade26bd-b9f6-470e-971f-36ba3baa5880",
   "metadata": {},
   "outputs": [],
   "source": [
    "x=np.array([1,2,3])\n",
    "y=np.array([4,5,6])"
   ]
  },
  {
   "cell_type": "code",
   "execution_count": 91,
   "id": "0565f590-2d6a-436a-bbeb-2310b4b22ef4",
   "metadata": {},
   "outputs": [
    {
     "data": {
      "text/plain": [
       "array([1, 2, 3, 4, 5, 6])"
      ]
     },
     "execution_count": 91,
     "metadata": {},
     "output_type": "execute_result"
    }
   ],
   "source": [
    "np.concatenate([x,y])"
   ]
  },
  {
   "cell_type": "code",
   "execution_count": 92,
   "id": "b89d23b1-085e-4543-8d26-9d401123c002",
   "metadata": {},
   "outputs": [],
   "source": [
    "z=np.array([7,8,9])"
   ]
  },
  {
   "cell_type": "code",
   "execution_count": 93,
   "id": "92be22ee-dffc-4f16-b007-03b38202ea31",
   "metadata": {},
   "outputs": [
    {
     "data": {
      "text/plain": [
       "array([1, 2, 3, 4, 5, 6, 7, 8, 9])"
      ]
     },
     "execution_count": 93,
     "metadata": {},
     "output_type": "execute_result"
    }
   ],
   "source": [
    "np.concatenate([x,y,z])"
   ]
  },
  {
   "cell_type": "markdown",
   "id": "f00f51ba-b315-412f-a422-31bfb922319c",
   "metadata": {},
   "source": [
    "**iki boyutlu birleştirme**"
   ]
  },
  {
   "cell_type": "code",
   "execution_count": 106,
   "id": "53998dc6-0bce-4102-ab48-664ae8aa2a77",
   "metadata": {},
   "outputs": [],
   "source": [
    "a=np.random.randint(0,9,(3,3))\n",
    "b=np.random.randint(5,10,(3,3))"
   ]
  },
  {
   "cell_type": "code",
   "execution_count": 107,
   "id": "b05b4698-7446-464d-9286-32ed5ccc757d",
   "metadata": {},
   "outputs": [
    {
     "data": {
      "text/plain": [
       "array([[6, 5, 3],\n",
       "       [3, 6, 1],\n",
       "       [8, 1, 1]])"
      ]
     },
     "execution_count": 107,
     "metadata": {},
     "output_type": "execute_result"
    }
   ],
   "source": [
    "a"
   ]
  },
  {
   "cell_type": "code",
   "execution_count": 108,
   "id": "a3cd9d31-5ee5-48b2-8b0b-034b41acd6ff",
   "metadata": {},
   "outputs": [
    {
     "data": {
      "text/plain": [
       "array([[9, 5, 9],\n",
       "       [5, 8, 6],\n",
       "       [6, 9, 7]])"
      ]
     },
     "execution_count": 108,
     "metadata": {},
     "output_type": "execute_result"
    }
   ],
   "source": [
    "b"
   ]
  },
  {
   "cell_type": "code",
   "execution_count": 109,
   "id": "7a1cc04e-fcd0-4453-b00d-20c3f04c472a",
   "metadata": {},
   "outputs": [
    {
     "data": {
      "text/plain": [
       "array([[6, 5, 3],\n",
       "       [3, 6, 1],\n",
       "       [8, 1, 1],\n",
       "       [9, 5, 9],\n",
       "       [5, 8, 6],\n",
       "       [6, 9, 7]])"
      ]
     },
     "execution_count": 109,
     "metadata": {},
     "output_type": "execute_result"
    }
   ],
   "source": [
    "np.concatenate([a,b])"
   ]
  },
  {
   "cell_type": "code",
   "execution_count": 111,
   "id": "c51f67d9-564a-4536-bc47-8d3a5fd9eacf",
   "metadata": {},
   "outputs": [
    {
     "data": {
      "text/plain": [
       "array([[6, 5, 3, 9, 5, 9],\n",
       "       [3, 6, 1, 5, 8, 6],\n",
       "       [8, 1, 1, 6, 9, 7]])"
      ]
     },
     "execution_count": 111,
     "metadata": {},
     "output_type": "execute_result"
    }
   ],
   "source": [
    "np.concatenate([a,b],axis=1) #sütuna göre(1)\n",
    "                             # satıra göre olsaydı(0)"
   ]
  },
  {
   "cell_type": "markdown",
   "id": "a85adffa-1c70-4517-a1a1-3878f1162fb0",
   "metadata": {},
   "source": [
    "## Array ayırma \"split\""
   ]
  },
  {
   "cell_type": "code",
   "execution_count": 112,
   "id": "b21c63af-b9b2-47be-a43b-980cd10baf6b",
   "metadata": {},
   "outputs": [],
   "source": [
    "import numpy as np"
   ]
  },
  {
   "cell_type": "code",
   "execution_count": 114,
   "id": "46187403-5593-4ec9-8112-981dcfbf4e9b",
   "metadata": {},
   "outputs": [],
   "source": [
    "x=np.array([1,2,3,4,4,5,6,7,8,9])"
   ]
  },
  {
   "cell_type": "code",
   "execution_count": 116,
   "id": "9eded7c3-78ec-4202-b836-b91cd52a91da",
   "metadata": {},
   "outputs": [
    {
     "data": {
      "text/plain": [
       "[array([1, 2]), array([3, 4, 4, 5]), array([6, 7, 8, 9])]"
      ]
     },
     "execution_count": 116,
     "metadata": {},
     "output_type": "execute_result"
    }
   ],
   "source": [
    "np.split(x,[2,6])"
   ]
  },
  {
   "cell_type": "code",
   "execution_count": 117,
   "id": "991a5775-4bda-4b2e-b665-423aa68f44dd",
   "metadata": {},
   "outputs": [],
   "source": [
    "a,b,c=np.split(x,[2,6])"
   ]
  },
  {
   "cell_type": "code",
   "execution_count": 118,
   "id": "1df3681d-2938-4dbb-8c9f-c224a71033d6",
   "metadata": {},
   "outputs": [
    {
     "data": {
      "text/plain": [
       "array([1, 2])"
      ]
     },
     "execution_count": 118,
     "metadata": {},
     "output_type": "execute_result"
    }
   ],
   "source": [
    "a"
   ]
  },
  {
   "cell_type": "code",
   "execution_count": 119,
   "id": "35b2ed0b-be31-4b87-82ba-b9b0a69888f8",
   "metadata": {},
   "outputs": [
    {
     "data": {
      "text/plain": [
       "array([3, 4, 4, 5])"
      ]
     },
     "execution_count": 119,
     "metadata": {},
     "output_type": "execute_result"
    }
   ],
   "source": [
    "b"
   ]
  },
  {
   "cell_type": "code",
   "execution_count": 120,
   "id": "2f2b573c-4005-4345-b174-567d3a59d9a3",
   "metadata": {},
   "outputs": [
    {
     "data": {
      "text/plain": [
       "array([6, 7, 8, 9])"
      ]
     },
     "execution_count": 120,
     "metadata": {},
     "output_type": "execute_result"
    }
   ],
   "source": [
    "c"
   ]
  },
  {
   "cell_type": "markdown",
   "id": "90303c5d-7183-4925-baa5-ee4c4914bba6",
   "metadata": {},
   "source": [
    "**iki boyutlu ayırma**"
   ]
  },
  {
   "cell_type": "code",
   "execution_count": 2,
   "id": "39e29be3-6541-4a36-815b-2aa81c47bba2",
   "metadata": {},
   "outputs": [],
   "source": [
    "import numpy as np"
   ]
  },
  {
   "cell_type": "code",
   "execution_count": 3,
   "id": "fde3250c-e832-419c-8562-377dab833375",
   "metadata": {},
   "outputs": [],
   "source": [
    "a=np.arange(16).reshape(4,4)"
   ]
  },
  {
   "cell_type": "code",
   "execution_count": 4,
   "id": "54c18aa4-0441-4fbd-bbf6-abcac5cf52d4",
   "metadata": {},
   "outputs": [
    {
     "data": {
      "text/plain": [
       "2"
      ]
     },
     "execution_count": 4,
     "metadata": {},
     "output_type": "execute_result"
    }
   ],
   "source": [
    "a.ndim"
   ]
  },
  {
   "cell_type": "code",
   "execution_count": 5,
   "id": "c352f01a-4afb-46d9-8642-8358456cde94",
   "metadata": {},
   "outputs": [
    {
     "data": {
      "text/plain": [
       "array([[ 0,  1,  2,  3],\n",
       "       [ 4,  5,  6,  7],\n",
       "       [ 8,  9, 10, 11],\n",
       "       [12, 13, 14, 15]])"
      ]
     },
     "execution_count": 5,
     "metadata": {},
     "output_type": "execute_result"
    }
   ],
   "source": [
    "a"
   ]
  },
  {
   "cell_type": "code",
   "execution_count": 6,
   "id": "b8a9c66a-17bb-4761-bebd-b3e72a6c65b7",
   "metadata": {},
   "outputs": [
    {
     "data": {
      "text/plain": [
       "[array([[0, 1, 2, 3],\n",
       "        [4, 5, 6, 7]]),\n",
       " array([[ 8,  9, 10, 11],\n",
       "        [12, 13, 14, 15]])]"
      ]
     },
     "execution_count": 6,
     "metadata": {},
     "output_type": "execute_result"
    }
   ],
   "source": [
    "np.vsplit(a,[2])"
   ]
  },
  {
   "cell_type": "code",
   "execution_count": 7,
   "id": "0eb71032-2d46-449b-a285-51f4462f506d",
   "metadata": {},
   "outputs": [
    {
     "data": {
      "text/plain": [
       "[array([[ 0,  1,  2,  3],\n",
       "        [ 4,  5,  6,  7],\n",
       "        [ 8,  9, 10, 11]]),\n",
       " array([[12, 13, 14, 15]])]"
      ]
     },
     "execution_count": 7,
     "metadata": {},
     "output_type": "execute_result"
    }
   ],
   "source": [
    "np.vsplit(a,[3])"
   ]
  },
  {
   "cell_type": "code",
   "execution_count": 8,
   "id": "18f5e38c-8080-4cd7-a31c-fa02847d43f3",
   "metadata": {},
   "outputs": [],
   "source": [
    "x,y=np.vsplit(a,[3])"
   ]
  },
  {
   "cell_type": "code",
   "execution_count": 9,
   "id": "02f443c5-d5f1-4353-82e4-ab7d33f5cf45",
   "metadata": {},
   "outputs": [
    {
     "data": {
      "text/plain": [
       "array([[ 0,  1,  2,  3],\n",
       "       [ 4,  5,  6,  7],\n",
       "       [ 8,  9, 10, 11]])"
      ]
     },
     "execution_count": 9,
     "metadata": {},
     "output_type": "execute_result"
    }
   ],
   "source": [
    "x"
   ]
  },
  {
   "cell_type": "code",
   "execution_count": 10,
   "id": "c88fc0d1-041c-49e0-aca4-7f96ae2fc633",
   "metadata": {},
   "outputs": [
    {
     "data": {
      "text/plain": [
       "array([[12, 13, 14, 15]])"
      ]
     },
     "execution_count": 10,
     "metadata": {},
     "output_type": "execute_result"
    }
   ],
   "source": [
    "y"
   ]
  },
  {
   "cell_type": "code",
   "execution_count": 11,
   "id": "2bb7a5cf-7d23-4c87-9f4c-3c122e759326",
   "metadata": {},
   "outputs": [
    {
     "data": {
      "text/plain": [
       "array([[ 0,  1,  2,  3],\n",
       "       [ 4,  5,  6,  7],\n",
       "       [ 8,  9, 10, 11],\n",
       "       [12, 13, 14, 15]])"
      ]
     },
     "execution_count": 11,
     "metadata": {},
     "output_type": "execute_result"
    }
   ],
   "source": [
    "a"
   ]
  },
  {
   "cell_type": "code",
   "execution_count": 12,
   "id": "687b5253-cea7-4314-9932-8e28b4a36651",
   "metadata": {},
   "outputs": [
    {
     "data": {
      "text/plain": [
       "[array([[ 0,  1,  2],\n",
       "        [ 4,  5,  6],\n",
       "        [ 8,  9, 10],\n",
       "        [12, 13, 14]]),\n",
       " array([[ 3],\n",
       "        [ 7],\n",
       "        [11],\n",
       "        [15]])]"
      ]
     },
     "execution_count": 12,
     "metadata": {},
     "output_type": "execute_result"
    }
   ],
   "source": [
    "np.hsplit(a,[3])"
   ]
  },
  {
   "cell_type": "code",
   "execution_count": 14,
   "id": "e645a216-ec98-412a-9bde-d85bb392df50",
   "metadata": {},
   "outputs": [],
   "source": [
    "sağ,sol=np.hsplit(a,[3])"
   ]
  },
  {
   "cell_type": "code",
   "execution_count": 17,
   "id": "672198b7-2821-48b8-bd30-c44990decb20",
   "metadata": {},
   "outputs": [
    {
     "data": {
      "text/plain": [
       "array([[ 0,  1,  2],\n",
       "       [ 4,  5,  6],\n",
       "       [ 8,  9, 10],\n",
       "       [12, 13, 14]])"
      ]
     },
     "execution_count": 17,
     "metadata": {},
     "output_type": "execute_result"
    }
   ],
   "source": [
    "sağ"
   ]
  },
  {
   "cell_type": "code",
   "execution_count": 18,
   "id": "7b164f55-749f-4763-a328-7028c73a525e",
   "metadata": {},
   "outputs": [
    {
     "data": {
      "text/plain": [
       "array([[ 3],\n",
       "       [ 7],\n",
       "       [11],\n",
       "       [15]])"
      ]
     },
     "execution_count": 18,
     "metadata": {},
     "output_type": "execute_result"
    }
   ],
   "source": [
    "sol"
   ]
  },
  {
   "cell_type": "markdown",
   "id": "0d3260de-97a5-4d91-a276-167de65080bb",
   "metadata": {},
   "source": [
    "## Array sıralama \"sort\""
   ]
  },
  {
   "cell_type": "code",
   "execution_count": 19,
   "id": "f7d54696-1d36-41da-a7b0-46e46d0d6505",
   "metadata": {},
   "outputs": [],
   "source": [
    "import numpy as np"
   ]
  },
  {
   "cell_type": "code",
   "execution_count": 20,
   "id": "f695e5c1-7808-4798-b8e7-ac5ae4580f9b",
   "metadata": {},
   "outputs": [],
   "source": [
    "s=np.array([2,5,3,7,4,1,])"
   ]
  },
  {
   "cell_type": "code",
   "execution_count": 21,
   "id": "f4db6b53-10dc-4f66-b735-d87026f2671f",
   "metadata": {},
   "outputs": [
    {
     "data": {
      "text/plain": [
       "array([2, 5, 3, 7, 4, 1])"
      ]
     },
     "execution_count": 21,
     "metadata": {},
     "output_type": "execute_result"
    }
   ],
   "source": [
    "s"
   ]
  },
  {
   "cell_type": "code",
   "execution_count": 22,
   "id": "6e7f3344-aa13-4b50-9602-8f456b6b2ec6",
   "metadata": {},
   "outputs": [
    {
     "data": {
      "text/plain": [
       "array([1, 2, 3, 4, 5, 7])"
      ]
     },
     "execution_count": 22,
     "metadata": {},
     "output_type": "execute_result"
    }
   ],
   "source": [
    "np.sort(s) #numpy içerisinden çagırdıgım için verinin orijinal yapısını bozmadı"
   ]
  },
  {
   "cell_type": "code",
   "execution_count": 23,
   "id": "4fd57f3b-9f34-485d-916f-7dbf2e249e1c",
   "metadata": {},
   "outputs": [],
   "source": [
    "s.sort() #yapı bozuldu küçükten büyüğe sıralandı"
   ]
  },
  {
   "cell_type": "code",
   "execution_count": 24,
   "id": "20650b1c-9622-4bbc-9bf5-76dda7fca301",
   "metadata": {},
   "outputs": [
    {
     "data": {
      "text/plain": [
       "array([1, 2, 3, 4, 5, 7])"
      ]
     },
     "execution_count": 24,
     "metadata": {},
     "output_type": "execute_result"
    }
   ],
   "source": [
    "s"
   ]
  },
  {
   "cell_type": "markdown",
   "id": "cf6e9770-35a3-4fda-b927-bd5f7c4ae85e",
   "metadata": {},
   "source": [
    "**iki boyutlu sıralama**"
   ]
  },
  {
   "cell_type": "code",
   "execution_count": 33,
   "id": "a98114e6-8d4d-4b6e-b800-f75bb95b3672",
   "metadata": {},
   "outputs": [],
   "source": [
    "a=np.random.randint(0,16,(4,4))"
   ]
  },
  {
   "cell_type": "code",
   "execution_count": 34,
   "id": "ef3038ad-66c9-48f8-9413-266362f2ebba",
   "metadata": {},
   "outputs": [
    {
     "data": {
      "text/plain": [
       "array([[14,  1,  2,  8],\n",
       "       [ 9,  5,  2, 13],\n",
       "       [ 8, 15,  3,  0],\n",
       "       [ 1,  3,  7,  1]])"
      ]
     },
     "execution_count": 34,
     "metadata": {},
     "output_type": "execute_result"
    }
   ],
   "source": [
    "a"
   ]
  },
  {
   "cell_type": "code",
   "execution_count": 36,
   "id": "cc3de52c-6df3-49a2-82d4-ec9cd18da2b3",
   "metadata": {},
   "outputs": [
    {
     "data": {
      "text/plain": [
       "array([[ 1,  2,  8, 14],\n",
       "       [ 2,  5,  9, 13],\n",
       "       [ 0,  3,  8, 15],\n",
       "       [ 1,  1,  3,  7]])"
      ]
     },
     "execution_count": 36,
     "metadata": {},
     "output_type": "execute_result"
    }
   ],
   "source": [
    "np.sort(a,axis=1)"
   ]
  },
  {
   "cell_type": "code",
   "execution_count": 37,
   "id": "e4188892-a2d4-4af2-a1a8-9de8b9050696",
   "metadata": {},
   "outputs": [
    {
     "data": {
      "text/plain": [
       "array([[ 1,  1,  2,  0],\n",
       "       [ 8,  3,  2,  1],\n",
       "       [ 9,  5,  3,  8],\n",
       "       [14, 15,  7, 13]])"
      ]
     },
     "execution_count": 37,
     "metadata": {},
     "output_type": "execute_result"
    }
   ],
   "source": [
    "np.sort(a,axis=0)"
   ]
  },
  {
   "cell_type": "code",
   "execution_count": null,
   "id": "e7b3ac88-88db-408c-bcce-22261903a623",
   "metadata": {},
   "outputs": [],
   "source": []
  }
 ],
 "metadata": {
  "kernelspec": {
   "display_name": "Python 3 (ipykernel)",
   "language": "python",
   "name": "python3"
  },
  "language_info": {
   "codemirror_mode": {
    "name": "ipython",
    "version": 3
   },
   "file_extension": ".py",
   "mimetype": "text/x-python",
   "name": "python",
   "nbconvert_exporter": "python",
   "pygments_lexer": "ipython3",
   "version": "3.11.7"
  }
 },
 "nbformat": 4,
 "nbformat_minor": 5
}
